{
 "cells": [
  {
   "cell_type": "markdown",
   "metadata": {},
   "source": [
    "# Imports"
   ]
  },
  {
   "cell_type": "code",
   "execution_count": 1,
   "metadata": {},
   "outputs": [
    {
     "name": "stderr",
     "output_type": "stream",
     "text": [
      "Using TensorFlow backend.\n"
     ]
    }
   ],
   "source": [
    "%matplotlib inline\n",
    "from agents.AnnAgent import AnnAgent\n",
    "import numpy as np\n",
    "import pandas as pd\n",
    "import matplotlib.pyplot as plt"
   ]
  },
  {
   "cell_type": "markdown",
   "metadata": {},
   "source": [
    "# Load Agent"
   ]
  },
  {
   "cell_type": "code",
   "execution_count": 3,
   "metadata": {},
   "outputs": [
    {
     "name": "stdout",
     "output_type": "stream",
     "text": [
      "initializing model\n",
      "saved model found\n",
      "initializing model\n",
      "saved model found\n"
     ]
    }
   ],
   "source": [
    "agents = [\n",
    "    {\n",
    "        \"name\": \"agent_1\",\n",
    "        \"model_name\": \"001\",\n",
    "    }, {\n",
    "        \"name\": \"agent_2\",\n",
    "        \"model_name\": \"002\",\n",
    "    }, \n",
    "]\n",
    "\n",
    "for agent in agents:\n",
    "    agent[\"agent\"] = AnnAgent(agent[\"name\"], agent[\"model_name\"], do_train=False, silent=False)\n",
    "    agent[\"agent\"].symbol = \"X\""
   ]
  },
  {
   "cell_type": "markdown",
   "metadata": {},
   "source": [
    "# Check Q's"
   ]
  },
  {
   "cell_type": "code",
   "execution_count": 9,
   "metadata": {},
   "outputs": [
    {
     "data": {
      "text/plain": [
       "<matplotlib.figure.Figure at 0xa2f5a90>"
      ]
     },
     "metadata": {},
     "output_type": "display_data"
    },
    {
     "data": {
      "image/png": "[encoded data removed]",
      "text/plain": [
       "<matplotlib.figure.Figure at 0xa2f5ef0>"
      ]
     },
     "metadata": {},
     "output_type": "display_data"
    }
   ],
   "source": [
    "state = [\n",
    "    [ \"O\", \"X\", \"X\" ],\n",
    "    [ \" \", \" \", \" \" ],\n",
    "    [ \"O\", \" \", \" \" ],\n",
    "]\n",
    "\n",
    "size = 7\n",
    "horizontal_plots = 5\n",
    "\n",
    "plt.clf()\n",
    "fig, axes = plt.subplots(\n",
    "    nrows=(len(agents) - 1) // horizontal_plots + 1,\n",
    "    ncols=min(horizontal_plots, len(agents)),\n",
    "    figsize=(size, horizontal_plots * size)\n",
    ")\n",
    "for i, agent in enumerate(agents):\n",
    "    ax = axes[i]\n",
    "    ax.xaxis.set_ticks(range(3))\n",
    "    ax.yaxis.set_ticks(range(3))\n",
    "    q = agent[\"agent\"].get_qs(state).reshape(3,3)\n",
    "    img = ax.imshow(q, cmap=\"Oranges\")\n",
    "    ax.set_title(agent[\"name\"])\n",
    "    for x in range(3):\n",
    "        for y in range(3):\n",
    "            ax.text(\n",
    "                x, y, state[y][x],\n",
    "                ha=\"center\",\n",
    "                va=\"center\",\n",
    "                bbox={\"facecolor\": \"white\", \"pad\": 5}\n",
    "        )\n",
    "plt.tight_layout()\n",
    "plt.show()\n"
   ]
  }
 ],
 "metadata": {
  "kernelspec": {
   "display_name": "Python 3",
   "language": "python",
   "name": "python3"
  },
  "language_info": {
   "codemirror_mode": {
    "name": "ipython",
    "version": 3
   },
   "file_extension": ".py",
   "mimetype": "text/x-python",
   "name": "python",
   "nbconvert_exporter": "python",
   "pygments_lexer": "ipython3",
   "version": "3.5.2"
  }
 },
 "nbformat": 4,
 "nbformat_minor": 2
}
